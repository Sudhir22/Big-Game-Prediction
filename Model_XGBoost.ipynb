{
  "nbformat": 4,
  "nbformat_minor": 0,
  "metadata": {
    "colab": {
      "name": "Model_XGBoost.ipynb",
      "provenance": [],
      "authorship_tag": "ABX9TyOq/jDUK7XWkB/cPZlpGL8H",
      "include_colab_link": true
    },
    "kernelspec": {
      "name": "python3",
      "display_name": "Python 3"
    }
  },
  "cells": [
    {
      "cell_type": "markdown",
      "metadata": {
        "id": "view-in-github",
        "colab_type": "text"
      },
      "source": [
        "<a href=\"https://colab.research.google.com/github/Sudhir22/Big-Game-Prediction/blob/master/Model_XGBoost.ipynb\" target=\"_parent\"><img src=\"https://colab.research.google.com/assets/colab-badge.svg\" alt=\"Open In Colab\"/></a>"
      ]
    },
    {
      "cell_type": "code",
      "metadata": {
        "id": "jc_Mrtk-TKsZ",
        "colab_type": "code",
        "outputId": "a8649fe1-2e8e-4de2-a8c1-06f8bf4c0ccf",
        "colab": {
          "base_uri": "https://localhost:8080/",
          "height": 119
        }
      },
      "source": [
        "!pip install -q xlrd\n",
        "!git clone https://github.com/Sudhir22/Big-Game-Prediction.git"
      ],
      "execution_count": 1,
      "outputs": [
        {
          "output_type": "stream",
          "text": [
            "Cloning into 'Big-Game-Prediction'...\n",
            "remote: Enumerating objects: 14, done.\u001b[K\n",
            "remote: Counting objects:   7% (1/14)\u001b[K\rremote: Counting objects:  14% (2/14)\u001b[K\rremote: Counting objects:  21% (3/14)\u001b[K\rremote: Counting objects:  28% (4/14)\u001b[K\rremote: Counting objects:  35% (5/14)\u001b[K\rremote: Counting objects:  42% (6/14)\u001b[K\rremote: Counting objects:  50% (7/14)\u001b[K\rremote: Counting objects:  57% (8/14)\u001b[K\rremote: Counting objects:  64% (9/14)\u001b[K\rremote: Counting objects:  71% (10/14)\u001b[K\rremote: Counting objects:  78% (11/14)\u001b[K\rremote: Counting objects:  85% (12/14)\u001b[K\rremote: Counting objects:  92% (13/14)\u001b[K\rremote: Counting objects: 100% (14/14)\u001b[K\rremote: Counting objects: 100% (14/14), done.\u001b[K\n",
            "remote: Compressing objects:   9% (1/11)\u001b[K\rremote: Compressing objects:  18% (2/11)\u001b[K\rremote: Compressing objects:  27% (3/11)\u001b[K\rremote: Compressing objects:  36% (4/11)\u001b[K\rremote: Compressing objects:  45% (5/11)\u001b[K\rremote: Compressing objects:  54% (6/11)\u001b[K\rremote: Compressing objects:  63% (7/11)\u001b[K\rremote: Compressing objects:  72% (8/11)\u001b[K\rremote: Compressing objects:  81% (9/11)\u001b[K\rremote: Compressing objects:  90% (10/11)\u001b[K\rremote: Compressing objects: 100% (11/11)\u001b[K\rremote: Compressing objects: 100% (11/11), done.\u001b[K\n",
            "Unpacking objects:   7% (1/14)   \rUnpacking objects:  14% (2/14)   \rUnpacking objects:  21% (3/14)   \rUnpacking objects:  28% (4/14)   \rUnpacking objects:  35% (5/14)   \rUnpacking objects:  42% (6/14)   \rUnpacking objects:  50% (7/14)   \rUnpacking objects:  57% (8/14)   \rUnpacking objects:  64% (9/14)   \rremote: Total 14 (delta 2), reused 0 (delta 0), pack-reused 0\u001b[K\n",
            "Unpacking objects:  71% (10/14)   \rUnpacking objects:  78% (11/14)   \rUnpacking objects:  85% (12/14)   \rUnpacking objects:  92% (13/14)   \rUnpacking objects: 100% (14/14)   \rUnpacking objects: 100% (14/14), done.\n"
          ],
          "name": "stdout"
        }
      ]
    },
    {
      "cell_type": "code",
      "metadata": {
        "id": "Azu19l6irIed",
        "colab_type": "code",
        "outputId": "dc7ba3e8-6f39-4f32-a9b2-785e38689320",
        "colab": {
          "base_uri": "https://localhost:8080/",
          "height": 340
        }
      },
      "source": [
        "pip install catboost"
      ],
      "execution_count": 2,
      "outputs": [
        {
          "output_type": "stream",
          "text": [
            "Collecting catboost\n",
            "\u001b[?25l  Downloading https://files.pythonhosted.org/packages/ca/ae/aaff63662f7f5d2af7ec8d61a6f39e78ada9348e5df4f43e665ecc4bea10/catboost-0.21-cp36-none-manylinux1_x86_64.whl (64.0MB)\n",
            "\u001b[K     |████████████████████████████████| 64.0MB 55kB/s \n",
            "\u001b[?25hRequirement already satisfied: numpy>=1.16.0 in /usr/local/lib/python3.6/dist-packages (from catboost) (1.17.5)\n",
            "Requirement already satisfied: plotly in /usr/local/lib/python3.6/dist-packages (from catboost) (4.4.1)\n",
            "Requirement already satisfied: matplotlib in /usr/local/lib/python3.6/dist-packages (from catboost) (3.1.3)\n",
            "Requirement already satisfied: pandas>=0.24.0 in /usr/local/lib/python3.6/dist-packages (from catboost) (0.25.3)\n",
            "Requirement already satisfied: graphviz in /usr/local/lib/python3.6/dist-packages (from catboost) (0.10.1)\n",
            "Requirement already satisfied: six in /usr/local/lib/python3.6/dist-packages (from catboost) (1.12.0)\n",
            "Requirement already satisfied: scipy in /usr/local/lib/python3.6/dist-packages (from catboost) (1.4.1)\n",
            "Requirement already satisfied: retrying>=1.3.3 in /usr/local/lib/python3.6/dist-packages (from plotly->catboost) (1.3.3)\n",
            "Requirement already satisfied: python-dateutil>=2.1 in /usr/local/lib/python3.6/dist-packages (from matplotlib->catboost) (2.6.1)\n",
            "Requirement already satisfied: cycler>=0.10 in /usr/local/lib/python3.6/dist-packages (from matplotlib->catboost) (0.10.0)\n",
            "Requirement already satisfied: kiwisolver>=1.0.1 in /usr/local/lib/python3.6/dist-packages (from matplotlib->catboost) (1.1.0)\n",
            "Requirement already satisfied: pyparsing!=2.0.4,!=2.1.2,!=2.1.6,>=2.0.1 in /usr/local/lib/python3.6/dist-packages (from matplotlib->catboost) (2.4.6)\n",
            "Requirement already satisfied: pytz>=2017.2 in /usr/local/lib/python3.6/dist-packages (from pandas>=0.24.0->catboost) (2018.9)\n",
            "Requirement already satisfied: setuptools in /usr/local/lib/python3.6/dist-packages (from kiwisolver>=1.0.1->matplotlib->catboost) (45.1.0)\n",
            "Installing collected packages: catboost\n",
            "Successfully installed catboost-0.21\n"
          ],
          "name": "stdout"
        }
      ]
    },
    {
      "cell_type": "code",
      "metadata": {
        "id": "Zfd--glZTy0o",
        "colab_type": "code",
        "colab": {}
      },
      "source": [
        "import pandas as pd\n",
        "import xgboost as xbg\n",
        "from sklearn.model_selection import train_test_split\n",
        "import numpy as np\n",
        "from sklearn.metrics import precision_score, recall_score, accuracy_score,f1_score\n",
        "from sklearn.model_selection import KFold\n",
        "import seaborn as sns\n",
        "from sklearn.svm import SVC\n",
        "from sklearn.neural_network import MLPClassifier\n",
        "from catboost import CatBoostClassifier\n",
        "from sklearn.tree import DecisionTreeClassifier\n"
      ],
      "execution_count": 0,
      "outputs": []
    },
    {
      "cell_type": "code",
      "metadata": {
        "id": "K887-muqVYrc",
        "colab_type": "code",
        "colab": {}
      },
      "source": [
        "train_data=pd.read_csv('Big-Game-Prediction/train.csv')"
      ],
      "execution_count": 0,
      "outputs": []
    },
    {
      "cell_type": "code",
      "metadata": {
        "id": "rjZNrBZWVoPd",
        "colab_type": "code",
        "outputId": "9588dd4b-a659-4629-ec05-8f456392e435",
        "colab": {
          "base_uri": "https://localhost:8080/",
          "height": 224
        }
      },
      "source": [
        "train_data.head()"
      ],
      "execution_count": 5,
      "outputs": [
        {
          "output_type": "execute_result",
          "data": {
            "text/html": [
              "<div>\n",
              "<style scoped>\n",
              "    .dataframe tbody tr th:only-of-type {\n",
              "        vertical-align: middle;\n",
              "    }\n",
              "\n",
              "    .dataframe tbody tr th {\n",
              "        vertical-align: top;\n",
              "    }\n",
              "\n",
              "    .dataframe thead th {\n",
              "        text-align: right;\n",
              "    }\n",
              "</style>\n",
              "<table border=\"1\" class=\"dataframe\">\n",
              "  <thead>\n",
              "    <tr style=\"text-align: right;\">\n",
              "      <th></th>\n",
              "      <th>Won_Championship</th>\n",
              "      <th>Previous_SB_Wins</th>\n",
              "      <th>Number_Of_Wins_This_Season</th>\n",
              "      <th>Number_Of_First_Round_Draft_Picks</th>\n",
              "      <th>Team_Value</th>\n",
              "      <th>Playing_Style</th>\n",
              "      <th>Average_Player_Age</th>\n",
              "      <th>Number_Of_Injured_Players</th>\n",
              "      <th>Coach_Experience_Level</th>\n",
              "      <th>ID</th>\n",
              "    </tr>\n",
              "  </thead>\n",
              "  <tbody>\n",
              "    <tr>\n",
              "      <th>0</th>\n",
              "      <td>0</td>\n",
              "      <td>3</td>\n",
              "      <td>13</td>\n",
              "      <td>2</td>\n",
              "      <td>Less_Than_Four_Billion</td>\n",
              "      <td>Balanced</td>\n",
              "      <td>27</td>\n",
              "      <td>five</td>\n",
              "      <td>Intermediate</td>\n",
              "      <td>6056</td>\n",
              "    </tr>\n",
              "    <tr>\n",
              "      <th>1</th>\n",
              "      <td>0</td>\n",
              "      <td>2</td>\n",
              "      <td>14</td>\n",
              "      <td>2</td>\n",
              "      <td>Less_Than_Four_Billion</td>\n",
              "      <td>Aggressive_Offense</td>\n",
              "      <td>26</td>\n",
              "      <td>five</td>\n",
              "      <td>Intermediate</td>\n",
              "      <td>9702</td>\n",
              "    </tr>\n",
              "    <tr>\n",
              "      <th>2</th>\n",
              "      <td>1</td>\n",
              "      <td>2</td>\n",
              "      <td>13</td>\n",
              "      <td>1</td>\n",
              "      <td>Less_Than_Four_Billion</td>\n",
              "      <td>Aggressive_Defense</td>\n",
              "      <td>27</td>\n",
              "      <td>four</td>\n",
              "      <td>Intermediate</td>\n",
              "      <td>1745</td>\n",
              "    </tr>\n",
              "    <tr>\n",
              "      <th>3</th>\n",
              "      <td>0</td>\n",
              "      <td>2</td>\n",
              "      <td>12</td>\n",
              "      <td>2</td>\n",
              "      <td>Above_Four_Billion</td>\n",
              "      <td>Balanced</td>\n",
              "      <td>27</td>\n",
              "      <td>six</td>\n",
              "      <td>Intermediate</td>\n",
              "      <td>4757</td>\n",
              "    </tr>\n",
              "    <tr>\n",
              "      <th>4</th>\n",
              "      <td>0</td>\n",
              "      <td>1</td>\n",
              "      <td>15</td>\n",
              "      <td>2</td>\n",
              "      <td>Less_Than_Four_Billion</td>\n",
              "      <td>Balanced</td>\n",
              "      <td>26</td>\n",
              "      <td>five</td>\n",
              "      <td>Intermediate</td>\n",
              "      <td>7242</td>\n",
              "    </tr>\n",
              "  </tbody>\n",
              "</table>\n",
              "</div>"
            ],
            "text/plain": [
              "   Won_Championship  Previous_SB_Wins  ...  Coach_Experience_Level    ID\n",
              "0                 0                 3  ...            Intermediate  6056\n",
              "1                 0                 2  ...            Intermediate  9702\n",
              "2                 1                 2  ...            Intermediate  1745\n",
              "3                 0                 2  ...            Intermediate  4757\n",
              "4                 0                 1  ...            Intermediate  7242\n",
              "\n",
              "[5 rows x 10 columns]"
            ]
          },
          "metadata": {
            "tags": []
          },
          "execution_count": 5
        }
      ]
    },
    {
      "cell_type": "code",
      "metadata": {
        "id": "LO4nFYK8re7l",
        "colab_type": "code",
        "colab": {}
      },
      "source": [
        "train_data['Team_Value']=pd.Categorical(train_data['Team_Value'])\n",
        "train_data['Team_Value']=train_data['Team_Value'].cat.codes\n",
        "train_data['Playing_Style']=pd.Categorical(train_data['Playing_Style'])\n",
        "train_data['Playing_Style']=train_data['Playing_Style'].cat.codes\n",
        "train_data['Number_Of_Injured_Players']=pd.Categorical(train_data['Number_Of_Injured_Players'])\n",
        "train_data['Number_Of_Injured_Players']=train_data['Number_Of_Injured_Players'].cat.codes\n",
        "train_data['Coach_Experience_Level']=pd.Categorical(train_data['Coach_Experience_Level'])\n",
        "train_data['Coach_Experience_Level']=train_data['Coach_Experience_Level'].cat.codes"
      ],
      "execution_count": 0,
      "outputs": []
    },
    {
      "cell_type": "code",
      "metadata": {
        "id": "mke-AQNJgW_J",
        "colab_type": "code",
        "colab": {}
      },
      "source": [
        "def mean_encoding(x,y):\n",
        "  return float(x/y*1.0)\n"
      ],
      "execution_count": 0,
      "outputs": []
    },
    {
      "cell_type": "code",
      "metadata": {
        "id": "qmrfiQobsOuz",
        "colab_type": "code",
        "colab": {}
      },
      "source": [
        "data_corr=train_data.corr()"
      ],
      "execution_count": 0,
      "outputs": []
    },
    {
      "cell_type": "code",
      "metadata": {
        "id": "g18xMYDysSsq",
        "colab_type": "code",
        "outputId": "db657a8d-aff7-4025-d2eb-55a53dd11aaa",
        "colab": {
          "base_uri": "https://localhost:8080/",
          "height": 457
        }
      },
      "source": [
        "sns.heatmap(data_corr)"
      ],
      "execution_count": 8,
      "outputs": [
        {
          "output_type": "execute_result",
          "data": {
            "text/plain": [
              "<matplotlib.axes._subplots.AxesSubplot at 0x7fc1e0b57b38>"
            ]
          },
          "metadata": {
            "tags": []
          },
          "execution_count": 8
        },
        {
          "output_type": "display_data",
          "data": {
            "image/png": "[encoded data removed]",
            "text/plain": [
              "<Figure size 432x288 with 2 Axes>"
            ]
          },
          "metadata": {
            "tags": []
          }
        }
      ]
    },
    {
      "cell_type": "code",
      "metadata": {
        "id": "CgveADrGoutf",
        "colab_type": "code",
        "outputId": "0dc20f4b-af70-4476-d33b-bea93fea909a",
        "colab": {
          "base_uri": "https://localhost:8080/",
          "height": 204
        }
      },
      "source": [
        "X=train_data.iloc[:,1:9]\n",
        "X.head()"
      ],
      "execution_count": 9,
      "outputs": [
        {
          "output_type": "execute_result",
          "data": {
            "text/html": [
              "<div>\n",
              "<style scoped>\n",
              "    .dataframe tbody tr th:only-of-type {\n",
              "        vertical-align: middle;\n",
              "    }\n",
              "\n",
              "    .dataframe tbody tr th {\n",
              "        vertical-align: top;\n",
              "    }\n",
              "\n",
              "    .dataframe thead th {\n",
              "        text-align: right;\n",
              "    }\n",
              "</style>\n",
              "<table border=\"1\" class=\"dataframe\">\n",
              "  <thead>\n",
              "    <tr style=\"text-align: right;\">\n",
              "      <th></th>\n",
              "      <th>Previous_SB_Wins</th>\n",
              "      <th>Number_Of_Wins_This_Season</th>\n",
              "      <th>Number_Of_First_Round_Draft_Picks</th>\n",
              "      <th>Team_Value</th>\n",
              "      <th>Playing_Style</th>\n",
              "      <th>Average_Player_Age</th>\n",
              "      <th>Number_Of_Injured_Players</th>\n",
              "      <th>Coach_Experience_Level</th>\n",
              "    </tr>\n",
              "  </thead>\n",
              "  <tbody>\n",
              "    <tr>\n",
              "      <th>0</th>\n",
              "      <td>3</td>\n",
              "      <td>13</td>\n",
              "      <td>2</td>\n",
              "      <td>1</td>\n",
              "      <td>2</td>\n",
              "      <td>27</td>\n",
              "      <td>1</td>\n",
              "      <td>2</td>\n",
              "    </tr>\n",
              "    <tr>\n",
              "      <th>1</th>\n",
              "      <td>2</td>\n",
              "      <td>14</td>\n",
              "      <td>2</td>\n",
              "      <td>1</td>\n",
              "      <td>1</td>\n",
              "      <td>26</td>\n",
              "      <td>1</td>\n",
              "      <td>2</td>\n",
              "    </tr>\n",
              "    <tr>\n",
              "      <th>2</th>\n",
              "      <td>2</td>\n",
              "      <td>13</td>\n",
              "      <td>1</td>\n",
              "      <td>1</td>\n",
              "      <td>0</td>\n",
              "      <td>27</td>\n",
              "      <td>2</td>\n",
              "      <td>2</td>\n",
              "    </tr>\n",
              "    <tr>\n",
              "      <th>3</th>\n",
              "      <td>2</td>\n",
              "      <td>12</td>\n",
              "      <td>2</td>\n",
              "      <td>0</td>\n",
              "      <td>2</td>\n",
              "      <td>27</td>\n",
              "      <td>6</td>\n",
              "      <td>2</td>\n",
              "    </tr>\n",
              "    <tr>\n",
              "      <th>4</th>\n",
              "      <td>1</td>\n",
              "      <td>15</td>\n",
              "      <td>2</td>\n",
              "      <td>1</td>\n",
              "      <td>2</td>\n",
              "      <td>26</td>\n",
              "      <td>1</td>\n",
              "      <td>2</td>\n",
              "    </tr>\n",
              "  </tbody>\n",
              "</table>\n",
              "</div>"
            ],
            "text/plain": [
              "   Previous_SB_Wins  ...  Coach_Experience_Level\n",
              "0                 3  ...                       2\n",
              "1                 2  ...                       2\n",
              "2                 2  ...                       2\n",
              "3                 2  ...                       2\n",
              "4                 1  ...                       2\n",
              "\n",
              "[5 rows x 8 columns]"
            ]
          },
          "metadata": {
            "tags": []
          },
          "execution_count": 9
        }
      ]
    },
    {
      "cell_type": "code",
      "metadata": {
        "id": "p0Y2HyrAp2al",
        "colab_type": "code",
        "colab": {}
      },
      "source": [
        "Y=train_data.iloc[:,0]"
      ],
      "execution_count": 0,
      "outputs": []
    },
    {
      "cell_type": "code",
      "metadata": {
        "id": "qNF_BK28YadJ",
        "colab_type": "code",
        "colab": {}
      },
      "source": [
        "kf=KFold(n_splits=5)"
      ],
      "execution_count": 0,
      "outputs": []
    },
    {
      "cell_type": "code",
      "metadata": {
        "id": "OTZvBNsGY8UA",
        "colab_type": "code",
        "colab": {}
      },
      "source": [
        "param = {\n",
        "    'eta': 0.2, \n",
        "    'max_depth': 12,  \n",
        "    'objective': 'multi:softprob',  \n",
        "    'gamma': 0.01,\n",
        "    'num_class': 4} \n",
        "\n",
        "steps = 1000  # The number of training iterations"
      ],
      "execution_count": 0,
      "outputs": []
    },
    {
      "cell_type": "code",
      "metadata": {
        "id": "GG9Eby3MYj58",
        "colab_type": "code",
        "outputId": "369c3a5d-d9ec-40de-a261-7d43b4a7374a",
        "colab": {
          "base_uri": "https://localhost:8080/",
          "height": 187
        }
      },
      "source": [
        "for x,y in kf.split(X):\n",
        "  print(x,y)\n",
        "  X_train,X_test = X.iloc[x,:],X.iloc[y,:]\n",
        "  Y_train,Y_test = Y[x],Y[y]\n",
        "  '''D_train = xbg.DMatrix(X_train, label=Y_train)\n",
        "  D_test = xbg.DMatrix(X_test, label=Y_test)\n",
        "  model = xbg.train(param, D_train, steps)\n",
        "  preds = model.predict(D_test)\n",
        "  best_preds = np.asarray([np.argmax(line) for line in preds])\n",
        "\n",
        "\n",
        "  print(\"Precision = {}\".format(precision_score(Y_test, best_preds, average='macro')))\n",
        "  print(\"Recall = {}\".format(recall_score(Y_test, best_preds, average='macro')))\n",
        "  print(\"Accuracy = {}\".format(accuracy_score(Y_test, best_preds)))\n",
        "  print(\"F1-score = {}\".format(f1_score(Y_test,best_preds,average='weighted')))\n",
        "  print(\"********************************************************************\")'''\n",
        "\n",
        "  '''model1=MLPClassifier(hidden_layer_sizes=(100,100,100),max_iter=1000,alpha=0.01,activation='relu')\n",
        "  model1.fit(X_train,Y_train)\n",
        "  best_preds_nn=model1.predict(X_test)\n",
        "  print(\"F1-score = {}\".format(f1_score(Y_test,best_preds_nn,average='weighted')))'''\n",
        "\n",
        "  '''model2=SVC(C=1,kernel='poly', degree=4,gamma='auto')\n",
        "  model2.fit(X_train,Y_train)\n",
        "  best_preds_svm = model2.predict(X_test)\n",
        "  print(best_preds_svm.tolist().count(0))\n",
        "  print(best_preds_svm.tolist().count(1))\n",
        "  print(best_preds_svm.tolist().count(2))\n",
        "  print(best_preds_svm.tolist().count(3))\n",
        "  print(\"F1-score = {}\".format(f1_score(Y_test,best_preds_svm,average='weighted')))'''\n",
        "\n",
        "  '''model3=CatBoostClassifier(iterations=1000,learning_rate=0.01,depth=12,loss_function='MultiClass',verbose=False)\n",
        "  model3.fit(X_train,Y_train)\n",
        "  best_preds_cat=model3.predict(X_test)\n",
        "  preds_cat=model3.predict_proba(X_test)\n",
        "  print(\"F1-score = {}\".format(f1_score(Y_test,best_preds_cat,average='weighted')))\n",
        "\n",
        "\n",
        "  average_preds=(np.array(preds)+np.array(preds_cat))/2.0\n",
        "  best_preds_average = np.asarray([np.argmax(line) for line in average_preds])\n",
        "  print(\"F1-score = {}\".format(f1_score(Y_test,best_preds_average,average='weighted')))'''\n",
        "\n",
        "  model4=DecisionTreeClassifier()\n",
        "  model4.fit(X_train,Y_train)\n",
        "\n",
        "  best_preds_tree=model4.predict(X_test)\n",
        "  print(\"F1-score = {}\".format(f1_score(Y_test,best_preds_tree,average='binary')))\n",
        "\n",
        "\n",
        "  \n"
      ],
      "execution_count": 13,
      "outputs": [
        {
          "output_type": "stream",
          "text": [
            "[1300 1301 1302 ... 6497 6498 6499] [   0    1    2 ... 1297 1298 1299]\n",
            "F1-score = 0.7194244604316546\n",
            "[   0    1    2 ... 6497 6498 6499] [1300 1301 1302 ... 2597 2598 2599]\n",
            "F1-score = 0.7132292522596549\n",
            "[   0    1    2 ... 6497 6498 6499] [2600 2601 2602 ... 3897 3898 3899]\n",
            "F1-score = 0.697171381031614\n",
            "[   0    1    2 ... 6497 6498 6499] [3900 3901 3902 ... 5197 5198 5199]\n",
            "F1-score = 0.7379095163806553\n",
            "[   0    1    2 ... 5197 5198 5199] [5200 5201 5202 ... 6497 6498 6499]\n",
            "F1-score = 0.6982343499197432\n"
          ],
          "name": "stdout"
        }
      ]
    },
    {
      "cell_type": "code",
      "metadata": {
        "id": "q3bty1Sor_Ct",
        "colab_type": "code",
        "colab": {}
      },
      "source": [
        "test_data=pd.read_csv(\"Big-Game-Prediction/test.csv\")"
      ],
      "execution_count": 0,
      "outputs": []
    },
    {
      "cell_type": "code",
      "metadata": {
        "id": "PlgzoAd9sGM1",
        "colab_type": "code",
        "outputId": "1efbaeff-2a3a-4b6e-d9f6-e72cde1eb777",
        "colab": {
          "base_uri": "https://localhost:8080/",
          "height": 224
        }
      },
      "source": [
        "test_data.head()"
      ],
      "execution_count": 16,
      "outputs": [
        {
          "output_type": "execute_result",
          "data": {
            "text/html": [
              "<div>\n",
              "<style scoped>\n",
              "    .dataframe tbody tr th:only-of-type {\n",
              "        vertical-align: middle;\n",
              "    }\n",
              "\n",
              "    .dataframe tbody tr th {\n",
              "        vertical-align: top;\n",
              "    }\n",
              "\n",
              "    .dataframe thead th {\n",
              "        text-align: right;\n",
              "    }\n",
              "</style>\n",
              "<table border=\"1\" class=\"dataframe\">\n",
              "  <thead>\n",
              "    <tr style=\"text-align: right;\">\n",
              "      <th></th>\n",
              "      <th>Previous_SB_Wins</th>\n",
              "      <th>Number_Of_Wins_This_Season</th>\n",
              "      <th>Number_Of_First_Round_Draft_Picks</th>\n",
              "      <th>Team_Value</th>\n",
              "      <th>Playing_Style</th>\n",
              "      <th>Average_Player_Age</th>\n",
              "      <th>Number_Of_Injured_Players</th>\n",
              "      <th>Coach_Experience_Level</th>\n",
              "      <th>ID</th>\n",
              "    </tr>\n",
              "  </thead>\n",
              "  <tbody>\n",
              "    <tr>\n",
              "      <th>0</th>\n",
              "      <td>3</td>\n",
              "      <td>16</td>\n",
              "      <td>2</td>\n",
              "      <td>Above_Four_Billion</td>\n",
              "      <td>Relaxed</td>\n",
              "      <td>26</td>\n",
              "      <td>two</td>\n",
              "      <td>Intermediate</td>\n",
              "      <td>1</td>\n",
              "    </tr>\n",
              "    <tr>\n",
              "      <th>1</th>\n",
              "      <td>2</td>\n",
              "      <td>15</td>\n",
              "      <td>3</td>\n",
              "      <td>Less_Than_Four_Billion</td>\n",
              "      <td>Balanced</td>\n",
              "      <td>26</td>\n",
              "      <td>six</td>\n",
              "      <td>Advanced</td>\n",
              "      <td>5</td>\n",
              "    </tr>\n",
              "    <tr>\n",
              "      <th>2</th>\n",
              "      <td>2</td>\n",
              "      <td>10</td>\n",
              "      <td>1</td>\n",
              "      <td>Less_Than_Four_Billion</td>\n",
              "      <td>Balanced</td>\n",
              "      <td>27</td>\n",
              "      <td>nine</td>\n",
              "      <td>Beginner</td>\n",
              "      <td>6</td>\n",
              "    </tr>\n",
              "    <tr>\n",
              "      <th>3</th>\n",
              "      <td>3</td>\n",
              "      <td>14</td>\n",
              "      <td>3</td>\n",
              "      <td>Less_Than_Four_Billion</td>\n",
              "      <td>Balanced</td>\n",
              "      <td>26</td>\n",
              "      <td>seven</td>\n",
              "      <td>Intermediate</td>\n",
              "      <td>7</td>\n",
              "    </tr>\n",
              "    <tr>\n",
              "      <th>4</th>\n",
              "      <td>3</td>\n",
              "      <td>13</td>\n",
              "      <td>2</td>\n",
              "      <td>Less_Than_Four_Billion</td>\n",
              "      <td>Balanced</td>\n",
              "      <td>27</td>\n",
              "      <td>three</td>\n",
              "      <td>Intermediate</td>\n",
              "      <td>9</td>\n",
              "    </tr>\n",
              "  </tbody>\n",
              "</table>\n",
              "</div>"
            ],
            "text/plain": [
              "   Previous_SB_Wins  Number_Of_Wins_This_Season  ...  Coach_Experience_Level ID\n",
              "0                 3                          16  ...            Intermediate  1\n",
              "1                 2                          15  ...                Advanced  5\n",
              "2                 2                          10  ...                Beginner  6\n",
              "3                 3                          14  ...            Intermediate  7\n",
              "4                 3                          13  ...            Intermediate  9\n",
              "\n",
              "[5 rows x 9 columns]"
            ]
          },
          "metadata": {
            "tags": []
          },
          "execution_count": 16
        }
      ]
    },
    {
      "cell_type": "code",
      "metadata": {
        "id": "vAmZFXS3tMBS",
        "colab_type": "code",
        "colab": {}
      },
      "source": [
        "test_data['Team_Value']=pd.Categorical(test_data['Team_Value'])\n",
        "test_data['Team_Value']=test_data['Team_Value'].cat.codes\n",
        "test_data['Playing_Style']=pd.Categorical(test_data['Playing_Style'])\n",
        "test_data['Playing_Style']=test_data['Playing_Style'].cat.codes\n",
        "test_data['Number_Of_Injured_Players']=pd.Categorical(test_data['Number_Of_Injured_Players'])\n",
        "test_data['Number_Of_Injured_Players']=test_data['Number_Of_Injured_Players'].cat.codes\n",
        "test_data['Coach_Experience_Level']=pd.Categorical(test_data['Coach_Experience_Level'])\n",
        "test_data['Coach_Experience_Level']=test_data['Coach_Experience_Level'].cat.codes"
      ],
      "execution_count": 0,
      "outputs": []
    },
    {
      "cell_type": "code",
      "metadata": {
        "id": "Msl1OCKZsMap",
        "colab_type": "code",
        "colab": {}
      },
      "source": [
        "test_X=test_data.iloc[:,0:8]"
      ],
      "execution_count": 0,
      "outputs": []
    },
    {
      "cell_type": "code",
      "metadata": {
        "id": "5bQvrovTsTc6",
        "colab_type": "code",
        "outputId": "4f02bf5d-b435-4e70-8344-d20ad2a1fb69",
        "colab": {
          "base_uri": "https://localhost:8080/",
          "height": 204
        }
      },
      "source": [
        "test_X.head()"
      ],
      "execution_count": 0,
      "outputs": [
        {
          "output_type": "execute_result",
          "data": {
            "text/html": [
              "<div>\n",
              "<style scoped>\n",
              "    .dataframe tbody tr th:only-of-type {\n",
              "        vertical-align: middle;\n",
              "    }\n",
              "\n",
              "    .dataframe tbody tr th {\n",
              "        vertical-align: top;\n",
              "    }\n",
              "\n",
              "    .dataframe thead th {\n",
              "        text-align: right;\n",
              "    }\n",
              "</style>\n",
              "<table border=\"1\" class=\"dataframe\">\n",
              "  <thead>\n",
              "    <tr style=\"text-align: right;\">\n",
              "      <th></th>\n",
              "      <th>Safety_Score</th>\n",
              "      <th>Days_Since_Inspection</th>\n",
              "      <th>Total_Safety_Complaints</th>\n",
              "      <th>Control_Metric</th>\n",
              "      <th>Turbulence_In_gforces</th>\n",
              "      <th>Cabin_Temperature</th>\n",
              "      <th>Accident_Type_Code</th>\n",
              "      <th>Max_Elevation</th>\n",
              "      <th>Violations</th>\n",
              "      <th>Adverse_Weather_Metric</th>\n",
              "    </tr>\n",
              "  </thead>\n",
              "  <tbody>\n",
              "    <tr>\n",
              "      <th>0</th>\n",
              "      <td>19.497717</td>\n",
              "      <td>16</td>\n",
              "      <td>6</td>\n",
              "      <td>72.151322</td>\n",
              "      <td>0.388959</td>\n",
              "      <td>78.32</td>\n",
              "      <td>4</td>\n",
              "      <td>37949.724386</td>\n",
              "      <td>2</td>\n",
              "      <td>0.069692</td>\n",
              "    </tr>\n",
              "    <tr>\n",
              "      <th>1</th>\n",
              "      <td>58.173516</td>\n",
              "      <td>15</td>\n",
              "      <td>3</td>\n",
              "      <td>64.585232</td>\n",
              "      <td>0.250841</td>\n",
              "      <td>78.60</td>\n",
              "      <td>7</td>\n",
              "      <td>30194.805567</td>\n",
              "      <td>2</td>\n",
              "      <td>0.002777</td>\n",
              "    </tr>\n",
              "    <tr>\n",
              "      <th>2</th>\n",
              "      <td>33.287671</td>\n",
              "      <td>15</td>\n",
              "      <td>3</td>\n",
              "      <td>64.721969</td>\n",
              "      <td>0.336669</td>\n",
              "      <td>86.96</td>\n",
              "      <td>6</td>\n",
              "      <td>17572.925484</td>\n",
              "      <td>1</td>\n",
              "      <td>0.004316</td>\n",
              "    </tr>\n",
              "    <tr>\n",
              "      <th>3</th>\n",
              "      <td>3.287671</td>\n",
              "      <td>21</td>\n",
              "      <td>5</td>\n",
              "      <td>66.362808</td>\n",
              "      <td>0.421775</td>\n",
              "      <td>80.86</td>\n",
              "      <td>3</td>\n",
              "      <td>40209.186341</td>\n",
              "      <td>2</td>\n",
              "      <td>0.199990</td>\n",
              "    </tr>\n",
              "    <tr>\n",
              "      <th>4</th>\n",
              "      <td>10.867580</td>\n",
              "      <td>18</td>\n",
              "      <td>2</td>\n",
              "      <td>56.107566</td>\n",
              "      <td>0.313228</td>\n",
              "      <td>79.22</td>\n",
              "      <td>2</td>\n",
              "      <td>35495.525408</td>\n",
              "      <td>2</td>\n",
              "      <td>0.483696</td>\n",
              "    </tr>\n",
              "  </tbody>\n",
              "</table>\n",
              "</div>"
            ],
            "text/plain": [
              "   Safety_Score  Days_Since_Inspection  ...  Violations  Adverse_Weather_Metric\n",
              "0     19.497717                     16  ...           2                0.069692\n",
              "1     58.173516                     15  ...           2                0.002777\n",
              "2     33.287671                     15  ...           1                0.004316\n",
              "3      3.287671                     21  ...           2                0.199990\n",
              "4     10.867580                     18  ...           2                0.483696\n",
              "\n",
              "[5 rows x 10 columns]"
            ]
          },
          "metadata": {
            "tags": []
          },
          "execution_count": 82
        }
      ]
    },
    {
      "cell_type": "code",
      "metadata": {
        "id": "3ode4-V5ySne",
        "colab_type": "code",
        "outputId": "e2497d40-a706-4c23-8d6b-3dbea70f0836",
        "colab": {
          "base_uri": "https://localhost:8080/",
          "height": 34
        }
      },
      "source": [
        "test_X.shape"
      ],
      "execution_count": 0,
      "outputs": [
        {
          "output_type": "execute_result",
          "data": {
            "text/plain": [
              "(2500, 10)"
            ]
          },
          "metadata": {
            "tags": []
          },
          "execution_count": 89
        }
      ]
    },
    {
      "cell_type": "code",
      "metadata": {
        "id": "n-2YLbfxuYmr",
        "colab_type": "code",
        "colab": {}
      },
      "source": [
        "#D_test_test=xbg.DMatrix(test_X)\n",
        "best_test_preds = model4.predict(test_X)\n",
        "#best_test_preds = np.asarray([np.argmax(line) for line in test_preds])"
      ],
      "execution_count": 0,
      "outputs": []
    },
    {
      "cell_type": "code",
      "metadata": {
        "id": "Mc5sdJdiyaX-",
        "colab_type": "code",
        "outputId": "58728169-215a-4fae-813a-715f66a4f52c",
        "colab": {
          "base_uri": "https://localhost:8080/",
          "height": 34
        }
      },
      "source": [
        "test_preds.shape"
      ],
      "execution_count": 0,
      "outputs": [
        {
          "output_type": "execute_result",
          "data": {
            "text/plain": [
              "(2500, 4)"
            ]
          },
          "metadata": {
            "tags": []
          },
          "execution_count": 95
        }
      ]
    },
    {
      "cell_type": "code",
      "metadata": {
        "id": "zPkoHPLuvCkq",
        "colab_type": "code",
        "colab": {}
      },
      "source": [
        "severity_dict={1:'Minor_Damage_And_Injuries',2:'Significant_Damage_And_Fatalities',3:'Significant_Damage_And_Serious_Injuries',0:'Highly_Fatal_And_Damaging'}"
      ],
      "execution_count": 0,
      "outputs": []
    },
    {
      "cell_type": "code",
      "metadata": {
        "id": "bIPXmns4vXjZ",
        "colab_type": "code",
        "colab": {}
      },
      "source": [
        "severity_list=list()\n",
        "for x in best_test_preds:\n",
        "  severity_list.append(severity_dict[x])"
      ],
      "execution_count": 0,
      "outputs": []
    },
    {
      "cell_type": "code",
      "metadata": {
        "id": "FRuaCw3nvqU2",
        "colab_type": "code",
        "colab": {}
      },
      "source": [
        "test_data['Won_Championship']=pd.Series(best_test_preds)"
      ],
      "execution_count": 0,
      "outputs": []
    },
    {
      "cell_type": "code",
      "metadata": {
        "id": "5nZ9SPxZv0Wl",
        "colab_type": "code",
        "colab": {}
      },
      "source": [
        "test_data[['ID','Won_Championship']].to_csv(\"Big-Game-Prediction/submission1.csv\",index=False)"
      ],
      "execution_count": 0,
      "outputs": []
    }
  ]
}