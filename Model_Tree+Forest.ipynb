{
  "nbformat": 4,
  "nbformat_minor": 0,
  "metadata": {
    "colab": {
      "name": "Model_XGBoost.ipynb",
      "provenance": [],
      "toc_visible": true,
      "authorship_tag": "ABX9TyPTbVW59cy5JogJINt9O8Ee",
      "include_colab_link": true
    },
    "kernelspec": {
      "name": "python3",
      "display_name": "Python 3"
    }
  },
  "cells": [
    {
      "cell_type": "markdown",
      "metadata": {
        "id": "view-in-github",
        "colab_type": "text"
      },
      "source": [
        "<a href=\"https://colab.research.google.com/github/Sudhir22/Big-Game-Prediction/blob/master/Model_Tree%2BForest.ipynb\" target=\"_parent\"><img src=\"https://colab.research.google.com/assets/colab-badge.svg\" alt=\"Open In Colab\"/></a>"
      ]
    },
    {
      "cell_type": "code",
      "metadata": {
        "id": "jc_Mrtk-TKsZ",
        "colab_type": "code",
        "outputId": "3b169f9b-70be-4b69-f8e1-b6ae7aebaeb2",
        "colab": {
          "base_uri": "https://localhost:8080/",
          "height": 119
        }
      },
      "source": [
        "!pip install -q xlrd\n",
        "!git clone https://github.com/Sudhir22/Big-Game-Prediction.git"
      ],
      "execution_count": 1,
      "outputs": [
        {
          "output_type": "stream",
          "text": [
            "Cloning into 'Big-Game-Prediction'...\n",
            "remote: Enumerating objects: 20, done.\u001b[K\n",
            "remote: Counting objects: 100% (20/20), done.\u001b[K\n",
            "remote: Compressing objects: 100% (17/17), done.\u001b[K\n",
            "remote: Total 20 (delta 5), reused 0 (delta 0), pack-reused 0\u001b[K\n",
            "Unpacking objects: 100% (20/20), done.\n"
          ],
          "name": "stdout"
        }
      ]
    },
    {
      "cell_type": "code",
      "metadata": {
        "id": "Azu19l6irIed",
        "colab_type": "code",
        "outputId": "3c0ef32b-6c83-4b5b-c9c2-7c690dabf93f",
        "colab": {
          "base_uri": "https://localhost:8080/",
          "height": 340
        }
      },
      "source": [
        "pip install catboost"
      ],
      "execution_count": 2,
      "outputs": [
        {
          "output_type": "stream",
          "text": [
            "Collecting catboost\n",
            "\u001b[?25l  Downloading https://files.pythonhosted.org/packages/ca/ae/aaff63662f7f5d2af7ec8d61a6f39e78ada9348e5df4f43e665ecc4bea10/catboost-0.21-cp36-none-manylinux1_x86_64.whl (64.0MB)\n",
            "\u001b[K     |████████████████████████████████| 64.0MB 66kB/s \n",
            "\u001b[?25hRequirement already satisfied: pandas>=0.24.0 in /usr/local/lib/python3.6/dist-packages (from catboost) (0.25.3)\n",
            "Requirement already satisfied: graphviz in /usr/local/lib/python3.6/dist-packages (from catboost) (0.10.1)\n",
            "Requirement already satisfied: plotly in /usr/local/lib/python3.6/dist-packages (from catboost) (4.4.1)\n",
            "Requirement already satisfied: matplotlib in /usr/local/lib/python3.6/dist-packages (from catboost) (3.1.3)\n",
            "Requirement already satisfied: six in /usr/local/lib/python3.6/dist-packages (from catboost) (1.12.0)\n",
            "Requirement already satisfied: numpy>=1.16.0 in /usr/local/lib/python3.6/dist-packages (from catboost) (1.17.5)\n",
            "Requirement already satisfied: scipy in /usr/local/lib/python3.6/dist-packages (from catboost) (1.4.1)\n",
            "Requirement already satisfied: pytz>=2017.2 in /usr/local/lib/python3.6/dist-packages (from pandas>=0.24.0->catboost) (2018.9)\n",
            "Requirement already satisfied: python-dateutil>=2.6.1 in /usr/local/lib/python3.6/dist-packages (from pandas>=0.24.0->catboost) (2.6.1)\n",
            "Requirement already satisfied: retrying>=1.3.3 in /usr/local/lib/python3.6/dist-packages (from plotly->catboost) (1.3.3)\n",
            "Requirement already satisfied: cycler>=0.10 in /usr/local/lib/python3.6/dist-packages (from matplotlib->catboost) (0.10.0)\n",
            "Requirement already satisfied: kiwisolver>=1.0.1 in /usr/local/lib/python3.6/dist-packages (from matplotlib->catboost) (1.1.0)\n",
            "Requirement already satisfied: pyparsing!=2.0.4,!=2.1.2,!=2.1.6,>=2.0.1 in /usr/local/lib/python3.6/dist-packages (from matplotlib->catboost) (2.4.6)\n",
            "Requirement already satisfied: setuptools in /usr/local/lib/python3.6/dist-packages (from kiwisolver>=1.0.1->matplotlib->catboost) (45.1.0)\n",
            "Installing collected packages: catboost\n",
            "Successfully installed catboost-0.21\n"
          ],
          "name": "stdout"
        }
      ]
    },
    {
      "cell_type": "code",
      "metadata": {
        "id": "Zfd--glZTy0o",
        "colab_type": "code",
        "colab": {}
      },
      "source": [
        "import pandas as pd\n",
        "import xgboost as xbg\n",
        "from sklearn.model_selection import train_test_split\n",
        "import numpy as np\n",
        "from sklearn.metrics import precision_score, recall_score, accuracy_score,f1_score\n",
        "from sklearn.model_selection import KFold\n",
        "import seaborn as sns\n",
        "from sklearn.svm import SVC\n",
        "from sklearn.neural_network import MLPClassifier\n",
        "from catboost import CatBoostClassifier\n",
        "from sklearn.tree import DecisionTreeClassifier\n",
        "from sklearn.ensemble import RandomForestClassifier\n",
        "from sklearn.svm import SVC\n"
      ],
      "execution_count": 0,
      "outputs": []
    },
    {
      "cell_type": "code",
      "metadata": {
        "id": "K887-muqVYrc",
        "colab_type": "code",
        "colab": {}
      },
      "source": [
        "train_data=pd.read_csv('Big-Game-Prediction/train.csv')"
      ],
      "execution_count": 0,
      "outputs": []
    },
    {
      "cell_type": "code",
      "metadata": {
        "id": "rjZNrBZWVoPd",
        "colab_type": "code",
        "outputId": "f3388a8a-1155-470f-c34c-23bb4e52d409",
        "colab": {
          "base_uri": "https://localhost:8080/",
          "height": 224
        }
      },
      "source": [
        "train_data.head()"
      ],
      "execution_count": 6,
      "outputs": [
        {
          "output_type": "execute_result",
          "data": {
            "text/html": [
              "<div>\n",
              "<style scoped>\n",
              "    .dataframe tbody tr th:only-of-type {\n",
              "        vertical-align: middle;\n",
              "    }\n",
              "\n",
              "    .dataframe tbody tr th {\n",
              "        vertical-align: top;\n",
              "    }\n",
              "\n",
              "    .dataframe thead th {\n",
              "        text-align: right;\n",
              "    }\n",
              "</style>\n",
              "<table border=\"1\" class=\"dataframe\">\n",
              "  <thead>\n",
              "    <tr style=\"text-align: right;\">\n",
              "      <th></th>\n",
              "      <th>Won_Championship</th>\n",
              "      <th>Previous_SB_Wins</th>\n",
              "      <th>Number_Of_Wins_This_Season</th>\n",
              "      <th>Number_Of_First_Round_Draft_Picks</th>\n",
              "      <th>Team_Value</th>\n",
              "      <th>Playing_Style</th>\n",
              "      <th>Average_Player_Age</th>\n",
              "      <th>Number_Of_Injured_Players</th>\n",
              "      <th>Coach_Experience_Level</th>\n",
              "      <th>ID</th>\n",
              "    </tr>\n",
              "  </thead>\n",
              "  <tbody>\n",
              "    <tr>\n",
              "      <th>0</th>\n",
              "      <td>0</td>\n",
              "      <td>3</td>\n",
              "      <td>13</td>\n",
              "      <td>2</td>\n",
              "      <td>Less_Than_Four_Billion</td>\n",
              "      <td>Balanced</td>\n",
              "      <td>27</td>\n",
              "      <td>five</td>\n",
              "      <td>Intermediate</td>\n",
              "      <td>6056</td>\n",
              "    </tr>\n",
              "    <tr>\n",
              "      <th>1</th>\n",
              "      <td>0</td>\n",
              "      <td>2</td>\n",
              "      <td>14</td>\n",
              "      <td>2</td>\n",
              "      <td>Less_Than_Four_Billion</td>\n",
              "      <td>Aggressive_Offense</td>\n",
              "      <td>26</td>\n",
              "      <td>five</td>\n",
              "      <td>Intermediate</td>\n",
              "      <td>9702</td>\n",
              "    </tr>\n",
              "    <tr>\n",
              "      <th>2</th>\n",
              "      <td>1</td>\n",
              "      <td>2</td>\n",
              "      <td>13</td>\n",
              "      <td>1</td>\n",
              "      <td>Less_Than_Four_Billion</td>\n",
              "      <td>Aggressive_Defense</td>\n",
              "      <td>27</td>\n",
              "      <td>four</td>\n",
              "      <td>Intermediate</td>\n",
              "      <td>1745</td>\n",
              "    </tr>\n",
              "    <tr>\n",
              "      <th>3</th>\n",
              "      <td>0</td>\n",
              "      <td>2</td>\n",
              "      <td>12</td>\n",
              "      <td>2</td>\n",
              "      <td>Above_Four_Billion</td>\n",
              "      <td>Balanced</td>\n",
              "      <td>27</td>\n",
              "      <td>six</td>\n",
              "      <td>Intermediate</td>\n",
              "      <td>4757</td>\n",
              "    </tr>\n",
              "    <tr>\n",
              "      <th>4</th>\n",
              "      <td>0</td>\n",
              "      <td>1</td>\n",
              "      <td>15</td>\n",
              "      <td>2</td>\n",
              "      <td>Less_Than_Four_Billion</td>\n",
              "      <td>Balanced</td>\n",
              "      <td>26</td>\n",
              "      <td>five</td>\n",
              "      <td>Intermediate</td>\n",
              "      <td>7242</td>\n",
              "    </tr>\n",
              "  </tbody>\n",
              "</table>\n",
              "</div>"
            ],
            "text/plain": [
              "   Won_Championship  Previous_SB_Wins  ...  Coach_Experience_Level    ID\n",
              "0                 0                 3  ...            Intermediate  6056\n",
              "1                 0                 2  ...            Intermediate  9702\n",
              "2                 1                 2  ...            Intermediate  1745\n",
              "3                 0                 2  ...            Intermediate  4757\n",
              "4                 0                 1  ...            Intermediate  7242\n",
              "\n",
              "[5 rows x 10 columns]"
            ]
          },
          "metadata": {
            "tags": []
          },
          "execution_count": 6
        }
      ]
    },
    {
      "cell_type": "code",
      "metadata": {
        "id": "LO4nFYK8re7l",
        "colab_type": "code",
        "colab": {}
      },
      "source": [
        "train_data['Team_Value']=pd.Categorical(train_data['Team_Value'])\n",
        "train_data['Team_Value']=train_data['Team_Value'].cat.codes\n",
        "train_data['Playing_Style']=pd.Categorical(train_data['Playing_Style'])\n",
        "train_data['Playing_Style']=train_data['Playing_Style'].cat.codes\n",
        "train_data['Number_Of_Injured_Players']=pd.Categorical(train_data['Number_Of_Injured_Players'])\n",
        "train_data['Number_Of_Injured_Players']=train_data['Number_Of_Injured_Players'].cat.codes\n",
        "train_data['Coach_Experience_Level']=pd.Categorical(train_data['Coach_Experience_Level'])\n",
        "train_data['Coach_Experience_Level']=train_data['Coach_Experience_Level'].cat.codes"
      ],
      "execution_count": 0,
      "outputs": []
    },
    {
      "cell_type": "code",
      "metadata": {
        "id": "mke-AQNJgW_J",
        "colab_type": "code",
        "colab": {}
      },
      "source": [
        "def mean_encoding(column):\n",
        "  mean_dict=dict()\n",
        "  for index,row in train_data.groupby([column]):\n",
        "    mean_dict[index]=(row['Won_Championship'].sum()/row.shape[0]*1.0)\n",
        "  \n",
        "  return mean_dict\n",
        "\n",
        "  \n"
      ],
      "execution_count": 0,
      "outputs": []
    },
    {
      "cell_type": "code",
      "metadata": {
        "id": "sm-Bp4pw4IlP",
        "colab_type": "code",
        "colab": {}
      },
      "source": [
        "team_value_mean=mean_encoding(\"Team_Value\")\n",
        "playing_style_mean=mean_encoding(\"Playing_Style\")\n",
        "no_of_injured_players_mean=mean_encoding(\"Number_Of_Injured_Players\")\n",
        "coach_experience_level_mean=mean_encoding(\"Coach_Experience_Level\")\n"
      ],
      "execution_count": 0,
      "outputs": []
    },
    {
      "cell_type": "code",
      "metadata": {
        "id": "RwHgpRrp4uRa",
        "colab_type": "code",
        "colab": {}
      },
      "source": [
        "team_value_mean_data=list()\n",
        "playing_style_mean_data=list()\n",
        "no_of_injured_players_mean_data=list()\n",
        "coach_experience_level_mean_data=list()\n",
        "for index,row in train_data.iterrows():\n",
        "  team_value_mean_data.append(team_value_mean[row['Team_Value']])\n",
        "  playing_style_mean_data.append(playing_style_mean[row['Playing_Style']])\n",
        "  no_of_injured_players_mean_data.append(no_of_injured_players_mean[row['Number_Of_Injured_Players']])\n",
        "  coach_experience_level_mean_data.append(coach_experience_level_mean[row['Coach_Experience_Level']])"
      ],
      "execution_count": 0,
      "outputs": []
    },
    {
      "cell_type": "code",
      "metadata": {
        "id": "qW3cwE7955XZ",
        "colab_type": "code",
        "colab": {}
      },
      "source": [
        "train_data['Team_Value_Mean']=pd.Series(team_value_mean_data)\n",
        "train_data['Playing_Style_Mean']=pd.Series(playing_style_mean_data)\n",
        "train_data['Number_Of_Injured_Players_Mean']=pd.Series(no_of_injured_players_mean_data)\n",
        "train_data['Coach_Experience_Level_Mean']=pd.Series(coach_experience_level_mean_data)"
      ],
      "execution_count": 0,
      "outputs": []
    },
    {
      "cell_type": "code",
      "metadata": {
        "id": "qmrfiQobsOuz",
        "colab_type": "code",
        "colab": {}
      },
      "source": [
        "data_corr=train_data.corr()"
      ],
      "execution_count": 0,
      "outputs": []
    },
    {
      "cell_type": "code",
      "metadata": {
        "id": "g18xMYDysSsq",
        "colab_type": "code",
        "outputId": "1dac1781-16be-445c-d385-0005fcca0fee",
        "colab": {
          "base_uri": "https://localhost:8080/",
          "height": 457
        }
      },
      "source": [
        "sns.heatmap(data_corr)"
      ],
      "execution_count": 16,
      "outputs": [
        {
          "output_type": "execute_result",
          "data": {
            "text/plain": [
              "<matplotlib.axes._subplots.AxesSubplot at 0x7fe27f40b6d8>"
            ]
          },
          "metadata": {
            "tags": []
          },
          "execution_count": 16
        },
        {
          "output_type": "display_data",
          "data": {
            "image/png": "[encoded data removed]",
            "text/plain": [
              "<Figure size 432x288 with 2 Axes>"
            ]
          },
          "metadata": {
            "tags": []
          }
        }
      ]
    },
    {
      "cell_type": "code",
      "metadata": {
        "id": "RfkfHhSx0nPL",
        "colab_type": "code",
        "colab": {
          "base_uri": "https://localhost:8080/",
          "height": 224
        },
        "outputId": "80513f17-4c6b-4da6-c64e-3a49ba7da8d6"
      },
      "source": [
        "train_data.head()"
      ],
      "execution_count": 17,
      "outputs": [
        {
          "output_type": "execute_result",
          "data": {
            "text/html": [
              "<div>\n",
              "<style scoped>\n",
              "    .dataframe tbody tr th:only-of-type {\n",
              "        vertical-align: middle;\n",
              "    }\n",
              "\n",
              "    .dataframe tbody tr th {\n",
              "        vertical-align: top;\n",
              "    }\n",
              "\n",
              "    .dataframe thead th {\n",
              "        text-align: right;\n",
              "    }\n",
              "</style>\n",
              "<table border=\"1\" class=\"dataframe\">\n",
              "  <thead>\n",
              "    <tr style=\"text-align: right;\">\n",
              "      <th></th>\n",
              "      <th>Won_Championship</th>\n",
              "      <th>Previous_SB_Wins</th>\n",
              "      <th>Number_Of_Wins_This_Season</th>\n",
              "      <th>Number_Of_First_Round_Draft_Picks</th>\n",
              "      <th>Team_Value</th>\n",
              "      <th>Playing_Style</th>\n",
              "      <th>Average_Player_Age</th>\n",
              "      <th>Number_Of_Injured_Players</th>\n",
              "      <th>Coach_Experience_Level</th>\n",
              "      <th>ID</th>\n",
              "      <th>Team_Value_Mean</th>\n",
              "      <th>Playing_Style_Mean</th>\n",
              "      <th>Number_Of_Injured_Players_Mean</th>\n",
              "      <th>Coach_Experience_Level_Mean</th>\n",
              "    </tr>\n",
              "  </thead>\n",
              "  <tbody>\n",
              "    <tr>\n",
              "      <th>0</th>\n",
              "      <td>0</td>\n",
              "      <td>3</td>\n",
              "      <td>13</td>\n",
              "      <td>2</td>\n",
              "      <td>1</td>\n",
              "      <td>2</td>\n",
              "      <td>27</td>\n",
              "      <td>1</td>\n",
              "      <td>2</td>\n",
              "      <td>6056</td>\n",
              "      <td>0.503899</td>\n",
              "      <td>0.503439</td>\n",
              "      <td>0.557022</td>\n",
              "      <td>0.490299</td>\n",
              "    </tr>\n",
              "    <tr>\n",
              "      <th>1</th>\n",
              "      <td>0</td>\n",
              "      <td>2</td>\n",
              "      <td>14</td>\n",
              "      <td>2</td>\n",
              "      <td>1</td>\n",
              "      <td>1</td>\n",
              "      <td>26</td>\n",
              "      <td>1</td>\n",
              "      <td>2</td>\n",
              "      <td>9702</td>\n",
              "      <td>0.503899</td>\n",
              "      <td>0.475336</td>\n",
              "      <td>0.557022</td>\n",
              "      <td>0.490299</td>\n",
              "    </tr>\n",
              "    <tr>\n",
              "      <th>2</th>\n",
              "      <td>1</td>\n",
              "      <td>2</td>\n",
              "      <td>13</td>\n",
              "      <td>1</td>\n",
              "      <td>1</td>\n",
              "      <td>0</td>\n",
              "      <td>27</td>\n",
              "      <td>2</td>\n",
              "      <td>2</td>\n",
              "      <td>1745</td>\n",
              "      <td>0.503899</td>\n",
              "      <td>0.500000</td>\n",
              "      <td>0.457437</td>\n",
              "      <td>0.490299</td>\n",
              "    </tr>\n",
              "    <tr>\n",
              "      <th>3</th>\n",
              "      <td>0</td>\n",
              "      <td>2</td>\n",
              "      <td>12</td>\n",
              "      <td>2</td>\n",
              "      <td>0</td>\n",
              "      <td>2</td>\n",
              "      <td>27</td>\n",
              "      <td>6</td>\n",
              "      <td>2</td>\n",
              "      <td>4757</td>\n",
              "      <td>0.485356</td>\n",
              "      <td>0.503439</td>\n",
              "      <td>0.536965</td>\n",
              "      <td>0.490299</td>\n",
              "    </tr>\n",
              "    <tr>\n",
              "      <th>4</th>\n",
              "      <td>0</td>\n",
              "      <td>1</td>\n",
              "      <td>15</td>\n",
              "      <td>2</td>\n",
              "      <td>1</td>\n",
              "      <td>2</td>\n",
              "      <td>26</td>\n",
              "      <td>1</td>\n",
              "      <td>2</td>\n",
              "      <td>7242</td>\n",
              "      <td>0.503899</td>\n",
              "      <td>0.503439</td>\n",
              "      <td>0.557022</td>\n",
              "      <td>0.490299</td>\n",
              "    </tr>\n",
              "  </tbody>\n",
              "</table>\n",
              "</div>"
            ],
            "text/plain": [
              "   Won_Championship  ...  Coach_Experience_Level_Mean\n",
              "0                 0  ...                     0.490299\n",
              "1                 0  ...                     0.490299\n",
              "2                 1  ...                     0.490299\n",
              "3                 0  ...                     0.490299\n",
              "4                 0  ...                     0.490299\n",
              "\n",
              "[5 rows x 14 columns]"
            ]
          },
          "metadata": {
            "tags": []
          },
          "execution_count": 17
        }
      ]
    },
    {
      "cell_type": "code",
      "metadata": {
        "id": "CgveADrGoutf",
        "colab_type": "code",
        "outputId": "d4c9d1ce-0a93-496c-97d9-73f7c6d5a2f7",
        "colab": {
          "base_uri": "https://localhost:8080/",
          "height": 224
        }
      },
      "source": [
        "X=train_data.iloc[:,[1,2,3,6,10,11,12,13]]\n",
        "X.head()"
      ],
      "execution_count": 19,
      "outputs": [
        {
          "output_type": "execute_result",
          "data": {
            "text/html": [
              "<div>\n",
              "<style scoped>\n",
              "    .dataframe tbody tr th:only-of-type {\n",
              "        vertical-align: middle;\n",
              "    }\n",
              "\n",
              "    .dataframe tbody tr th {\n",
              "        vertical-align: top;\n",
              "    }\n",
              "\n",
              "    .dataframe thead th {\n",
              "        text-align: right;\n",
              "    }\n",
              "</style>\n",
              "<table border=\"1\" class=\"dataframe\">\n",
              "  <thead>\n",
              "    <tr style=\"text-align: right;\">\n",
              "      <th></th>\n",
              "      <th>Previous_SB_Wins</th>\n",
              "      <th>Number_Of_Wins_This_Season</th>\n",
              "      <th>Number_Of_First_Round_Draft_Picks</th>\n",
              "      <th>Average_Player_Age</th>\n",
              "      <th>Team_Value_Mean</th>\n",
              "      <th>Playing_Style_Mean</th>\n",
              "      <th>Number_Of_Injured_Players_Mean</th>\n",
              "      <th>Coach_Experience_Level_Mean</th>\n",
              "    </tr>\n",
              "  </thead>\n",
              "  <tbody>\n",
              "    <tr>\n",
              "      <th>0</th>\n",
              "      <td>3</td>\n",
              "      <td>13</td>\n",
              "      <td>2</td>\n",
              "      <td>27</td>\n",
              "      <td>0.503899</td>\n",
              "      <td>0.503439</td>\n",
              "      <td>0.557022</td>\n",
              "      <td>0.490299</td>\n",
              "    </tr>\n",
              "    <tr>\n",
              "      <th>1</th>\n",
              "      <td>2</td>\n",
              "      <td>14</td>\n",
              "      <td>2</td>\n",
              "      <td>26</td>\n",
              "      <td>0.503899</td>\n",
              "      <td>0.475336</td>\n",
              "      <td>0.557022</td>\n",
              "      <td>0.490299</td>\n",
              "    </tr>\n",
              "    <tr>\n",
              "      <th>2</th>\n",
              "      <td>2</td>\n",
              "      <td>13</td>\n",
              "      <td>1</td>\n",
              "      <td>27</td>\n",
              "      <td>0.503899</td>\n",
              "      <td>0.500000</td>\n",
              "      <td>0.457437</td>\n",
              "      <td>0.490299</td>\n",
              "    </tr>\n",
              "    <tr>\n",
              "      <th>3</th>\n",
              "      <td>2</td>\n",
              "      <td>12</td>\n",
              "      <td>2</td>\n",
              "      <td>27</td>\n",
              "      <td>0.485356</td>\n",
              "      <td>0.503439</td>\n",
              "      <td>0.536965</td>\n",
              "      <td>0.490299</td>\n",
              "    </tr>\n",
              "    <tr>\n",
              "      <th>4</th>\n",
              "      <td>1</td>\n",
              "      <td>15</td>\n",
              "      <td>2</td>\n",
              "      <td>26</td>\n",
              "      <td>0.503899</td>\n",
              "      <td>0.503439</td>\n",
              "      <td>0.557022</td>\n",
              "      <td>0.490299</td>\n",
              "    </tr>\n",
              "  </tbody>\n",
              "</table>\n",
              "</div>"
            ],
            "text/plain": [
              "   Previous_SB_Wins  ...  Coach_Experience_Level_Mean\n",
              "0                 3  ...                     0.490299\n",
              "1                 2  ...                     0.490299\n",
              "2                 2  ...                     0.490299\n",
              "3                 2  ...                     0.490299\n",
              "4                 1  ...                     0.490299\n",
              "\n",
              "[5 rows x 8 columns]"
            ]
          },
          "metadata": {
            "tags": []
          },
          "execution_count": 19
        }
      ]
    },
    {
      "cell_type": "code",
      "metadata": {
        "id": "p0Y2HyrAp2al",
        "colab_type": "code",
        "colab": {}
      },
      "source": [
        "Y=train_data.iloc[:,0]"
      ],
      "execution_count": 0,
      "outputs": []
    },
    {
      "cell_type": "code",
      "metadata": {
        "id": "qNF_BK28YadJ",
        "colab_type": "code",
        "colab": {}
      },
      "source": [
        "kf=KFold(n_splits=5)"
      ],
      "execution_count": 0,
      "outputs": []
    },
    {
      "cell_type": "code",
      "metadata": {
        "id": "OTZvBNsGY8UA",
        "colab_type": "code",
        "colab": {}
      },
      "source": [
        "param = {\n",
        "    'eta': 0.2, \n",
        "    'max_depth': 100,  \n",
        "    'objective': 'binary:logistic',  \n",
        "    'gamma': 0.01} \n",
        "\n",
        "steps = 1000  # The number of training iterations"
      ],
      "execution_count": 0,
      "outputs": []
    },
    {
      "cell_type": "code",
      "metadata": {
        "id": "GG9Eby3MYj58",
        "colab_type": "code",
        "colab": {}
      },
      "source": [
        "for x,y in kf.split(X):\n",
        "  '''X_train,X_test = X.iloc[x,:],X.iloc[y,:]\n",
        "  Y_train,Y_test = Y[x],Y[y]\n",
        "  D_train = xbg.DMatrix(X_train, label=Y_train)\n",
        "  D_test = xbg.DMatrix(X_test, label=Y_test)\n",
        "  model = xbg.train(param, D_train, steps)\n",
        "  preds = model.predict(D_test)\n",
        "  best_preds = np.asarray([np.argmax(line) for line in preds])\n",
        "\n",
        "\n",
        "  print(\"Precision = {}\".format(precision_score(Y_test, best_preds, average='macro')))\n",
        "  print(\"Recall = {}\".format(recall_score(Y_test, best_preds, average='macro')))\n",
        "  print(\"Accuracy = {}\".format(accuracy_score(Y_test, best_preds)))\n",
        "  print(\"F1-score = {}\".format(f1_score(Y_test,best_preds,average='weighted')))\n",
        "  print(\"********************************************************************\")'''\n",
        "\n",
        "  '''model1=MLPClassifier(hidden_layer_sizes=(100,100,100),max_iter=1000,alpha=0.01,activation='relu')\n",
        "  model1.fit(X_train,Y_train)\n",
        "  best_preds_nn=model1.predict(X_test)\n",
        "  print(\"F1-score = {}\".format(f1_score(Y_test,best_preds_nn,average='weighted')))'''\n",
        "\n",
        "  model2=SVC(C=100,kernel='poly',gamma='auto')\n",
        "  model2.fit(X_train,Y_train)\n",
        "  best_preds_svm = model2.predict(X_test)\n",
        "  print(\"F1-score = {}\".format(f1_score(Y_test,best_preds_svm,average='weighted')))\n",
        "\n",
        "  '''model3=CatBoostClassifier(iterations=1000,learning_rate=0.01,depth=12,loss_function='MultiClass',verbose=False)\n",
        "  model3.fit(X_train,Y_train)\n",
        "  best_preds_cat=model3.predict(X_test)\n",
        "  preds_cat=model3.predict_proba(X_test)\n",
        "  print(\"F1-score = {}\".format(f1_score(Y_test,best_preds_cat,average='weighted')))\n",
        "\n",
        "\n",
        "  average_preds=(np.array(preds)+np.array(preds_cat))/2.0\n",
        "  best_preds_average = np.asarray([np.argmax(line) for line in average_preds])\n",
        "  print(\"F1-score = {}\".format(f1_score(Y_test,best_preds_average,average='weighted')))'''\n",
        "\n",
        "  model4=DecisionTreeClassifier(max_depth=1000)\n",
        "  model4.fit(X_train,Y_train)\n",
        "\n",
        "  best_preds_tree=model4.predict(X_test)\n",
        "  print(\"F1-score = {}\".format(f1_score(Y_test,best_preds_tree,average='binary')))\n",
        "\n",
        "  model5=RandomForestClassifier(n_estimators=100,min_samples_split=5,warm_start=True)\n",
        "\n",
        "  model5.fit(X_train,Y_train)\n",
        "\n",
        "  best_preds_forest=model5.predict(X_test)\n",
        "  print(\"F1-score = {}\".format(f1_score(Y_test,best_preds_forest,average='binary')))\n",
        "\n",
        "\n",
        "  \n"
      ],
      "execution_count": 0,
      "outputs": []
    },
    {
      "cell_type": "code",
      "metadata": {
        "id": "q3bty1Sor_Ct",
        "colab_type": "code",
        "colab": {}
      },
      "source": [
        "test_data=pd.read_csv(\"Big-Game-Prediction/test.csv\")"
      ],
      "execution_count": 0,
      "outputs": []
    },
    {
      "cell_type": "code",
      "metadata": {
        "id": "PlgzoAd9sGM1",
        "colab_type": "code",
        "outputId": "04882a21-f937-4dd9-e0e4-9544575b9e4d",
        "colab": {
          "base_uri": "https://localhost:8080/",
          "height": 224
        }
      },
      "source": [
        "test_data.head()"
      ],
      "execution_count": 26,
      "outputs": [
        {
          "output_type": "execute_result",
          "data": {
            "text/html": [
              "<div>\n",
              "<style scoped>\n",
              "    .dataframe tbody tr th:only-of-type {\n",
              "        vertical-align: middle;\n",
              "    }\n",
              "\n",
              "    .dataframe tbody tr th {\n",
              "        vertical-align: top;\n",
              "    }\n",
              "\n",
              "    .dataframe thead th {\n",
              "        text-align: right;\n",
              "    }\n",
              "</style>\n",
              "<table border=\"1\" class=\"dataframe\">\n",
              "  <thead>\n",
              "    <tr style=\"text-align: right;\">\n",
              "      <th></th>\n",
              "      <th>Previous_SB_Wins</th>\n",
              "      <th>Number_Of_Wins_This_Season</th>\n",
              "      <th>Number_Of_First_Round_Draft_Picks</th>\n",
              "      <th>Team_Value</th>\n",
              "      <th>Playing_Style</th>\n",
              "      <th>Average_Player_Age</th>\n",
              "      <th>Number_Of_Injured_Players</th>\n",
              "      <th>Coach_Experience_Level</th>\n",
              "      <th>ID</th>\n",
              "    </tr>\n",
              "  </thead>\n",
              "  <tbody>\n",
              "    <tr>\n",
              "      <th>0</th>\n",
              "      <td>3</td>\n",
              "      <td>16</td>\n",
              "      <td>2</td>\n",
              "      <td>Above_Four_Billion</td>\n",
              "      <td>Relaxed</td>\n",
              "      <td>26</td>\n",
              "      <td>two</td>\n",
              "      <td>Intermediate</td>\n",
              "      <td>1</td>\n",
              "    </tr>\n",
              "    <tr>\n",
              "      <th>1</th>\n",
              "      <td>2</td>\n",
              "      <td>15</td>\n",
              "      <td>3</td>\n",
              "      <td>Less_Than_Four_Billion</td>\n",
              "      <td>Balanced</td>\n",
              "      <td>26</td>\n",
              "      <td>six</td>\n",
              "      <td>Advanced</td>\n",
              "      <td>5</td>\n",
              "    </tr>\n",
              "    <tr>\n",
              "      <th>2</th>\n",
              "      <td>2</td>\n",
              "      <td>10</td>\n",
              "      <td>1</td>\n",
              "      <td>Less_Than_Four_Billion</td>\n",
              "      <td>Balanced</td>\n",
              "      <td>27</td>\n",
              "      <td>nine</td>\n",
              "      <td>Beginner</td>\n",
              "      <td>6</td>\n",
              "    </tr>\n",
              "    <tr>\n",
              "      <th>3</th>\n",
              "      <td>3</td>\n",
              "      <td>14</td>\n",
              "      <td>3</td>\n",
              "      <td>Less_Than_Four_Billion</td>\n",
              "      <td>Balanced</td>\n",
              "      <td>26</td>\n",
              "      <td>seven</td>\n",
              "      <td>Intermediate</td>\n",
              "      <td>7</td>\n",
              "    </tr>\n",
              "    <tr>\n",
              "      <th>4</th>\n",
              "      <td>3</td>\n",
              "      <td>13</td>\n",
              "      <td>2</td>\n",
              "      <td>Less_Than_Four_Billion</td>\n",
              "      <td>Balanced</td>\n",
              "      <td>27</td>\n",
              "      <td>three</td>\n",
              "      <td>Intermediate</td>\n",
              "      <td>9</td>\n",
              "    </tr>\n",
              "  </tbody>\n",
              "</table>\n",
              "</div>"
            ],
            "text/plain": [
              "   Previous_SB_Wins  Number_Of_Wins_This_Season  ...  Coach_Experience_Level ID\n",
              "0                 3                          16  ...            Intermediate  1\n",
              "1                 2                          15  ...                Advanced  5\n",
              "2                 2                          10  ...                Beginner  6\n",
              "3                 3                          14  ...            Intermediate  7\n",
              "4                 3                          13  ...            Intermediate  9\n",
              "\n",
              "[5 rows x 9 columns]"
            ]
          },
          "metadata": {
            "tags": []
          },
          "execution_count": 26
        }
      ]
    },
    {
      "cell_type": "code",
      "metadata": {
        "id": "vAmZFXS3tMBS",
        "colab_type": "code",
        "colab": {}
      },
      "source": [
        "test_data['Team_Value']=pd.Categorical(test_data['Team_Value'])\n",
        "test_data['Team_Value']=test_data['Team_Value'].cat.codes\n",
        "test_data['Playing_Style']=pd.Categorical(test_data['Playing_Style'])\n",
        "test_data['Playing_Style']=test_data['Playing_Style'].cat.codes\n",
        "test_data['Number_Of_Injured_Players']=pd.Categorical(test_data['Number_Of_Injured_Players'])\n",
        "test_data['Number_Of_Injured_Players']=test_data['Number_Of_Injured_Players'].cat.codes\n",
        "test_data['Coach_Experience_Level']=pd.Categorical(test_data['Coach_Experience_Level'])\n",
        "test_data['Coach_Experience_Level']=test_data['Coach_Experience_Level'].cat.codes"
      ],
      "execution_count": 0,
      "outputs": []
    },
    {
      "cell_type": "code",
      "metadata": {
        "id": "t6u7HmvQ64Et",
        "colab_type": "code",
        "colab": {}
      },
      "source": [
        "team_value_mean_data=list()\n",
        "playing_style_mean_data=list()\n",
        "no_of_injured_players_mean_data=list()\n",
        "coach_experience_level_mean_data=list()\n",
        "for index,row in test_data.iterrows():\n",
        "  team_value_mean_data.append(team_value_mean[row['Team_Value']])\n",
        "  playing_style_mean_data.append(playing_style_mean[row['Playing_Style']])\n",
        "  no_of_injured_players_mean_data.append(no_of_injured_players_mean[row['Number_Of_Injured_Players']])\n",
        "  coach_experience_level_mean_data.append(coach_experience_level_mean[row['Coach_Experience_Level']])"
      ],
      "execution_count": 0,
      "outputs": []
    },
    {
      "cell_type": "code",
      "metadata": {
        "id": "QvKH8maA7BNT",
        "colab_type": "code",
        "colab": {}
      },
      "source": [
        "test_data['Team_Value_Mean']=pd.Series(team_value_mean_data)\n",
        "test_data['Playing_Style_Mean']=pd.Series(playing_style_mean_data)\n",
        "test_data['Number_Of_Injured_Players_Mean']=pd.Series(no_of_injured_players_mean_data)\n",
        "test_data['Coach_Experience_Level_Mean']=pd.Series(coach_experience_level_mean_data)"
      ],
      "execution_count": 0,
      "outputs": []
    },
    {
      "cell_type": "code",
      "metadata": {
        "id": "TNE_dWRu7HsU",
        "colab_type": "code",
        "colab": {
          "base_uri": "https://localhost:8080/",
          "height": 224
        },
        "outputId": "cf0d1e7c-26db-478f-a8c2-ee9de5e72d22"
      },
      "source": [
        "test_data.head()"
      ],
      "execution_count": 30,
      "outputs": [
        {
          "output_type": "execute_result",
          "data": {
            "text/html": [
              "<div>\n",
              "<style scoped>\n",
              "    .dataframe tbody tr th:only-of-type {\n",
              "        vertical-align: middle;\n",
              "    }\n",
              "\n",
              "    .dataframe tbody tr th {\n",
              "        vertical-align: top;\n",
              "    }\n",
              "\n",
              "    .dataframe thead th {\n",
              "        text-align: right;\n",
              "    }\n",
              "</style>\n",
              "<table border=\"1\" class=\"dataframe\">\n",
              "  <thead>\n",
              "    <tr style=\"text-align: right;\">\n",
              "      <th></th>\n",
              "      <th>Previous_SB_Wins</th>\n",
              "      <th>Number_Of_Wins_This_Season</th>\n",
              "      <th>Number_Of_First_Round_Draft_Picks</th>\n",
              "      <th>Team_Value</th>\n",
              "      <th>Playing_Style</th>\n",
              "      <th>Average_Player_Age</th>\n",
              "      <th>Number_Of_Injured_Players</th>\n",
              "      <th>Coach_Experience_Level</th>\n",
              "      <th>ID</th>\n",
              "      <th>Team_Value_Mean</th>\n",
              "      <th>Playing_Style_Mean</th>\n",
              "      <th>Number_Of_Injured_Players_Mean</th>\n",
              "      <th>Coach_Experience_Level_Mean</th>\n",
              "    </tr>\n",
              "  </thead>\n",
              "  <tbody>\n",
              "    <tr>\n",
              "      <th>0</th>\n",
              "      <td>3</td>\n",
              "      <td>16</td>\n",
              "      <td>2</td>\n",
              "      <td>0</td>\n",
              "      <td>3</td>\n",
              "      <td>26</td>\n",
              "      <td>9</td>\n",
              "      <td>2</td>\n",
              "      <td>1</td>\n",
              "      <td>0.485356</td>\n",
              "      <td>0.503030</td>\n",
              "      <td>0.256410</td>\n",
              "      <td>0.490299</td>\n",
              "    </tr>\n",
              "    <tr>\n",
              "      <th>1</th>\n",
              "      <td>2</td>\n",
              "      <td>15</td>\n",
              "      <td>3</td>\n",
              "      <td>1</td>\n",
              "      <td>2</td>\n",
              "      <td>26</td>\n",
              "      <td>6</td>\n",
              "      <td>0</td>\n",
              "      <td>5</td>\n",
              "      <td>0.503899</td>\n",
              "      <td>0.503439</td>\n",
              "      <td>0.536965</td>\n",
              "      <td>0.886905</td>\n",
              "    </tr>\n",
              "    <tr>\n",
              "      <th>2</th>\n",
              "      <td>2</td>\n",
              "      <td>10</td>\n",
              "      <td>1</td>\n",
              "      <td>1</td>\n",
              "      <td>2</td>\n",
              "      <td>27</td>\n",
              "      <td>3</td>\n",
              "      <td>1</td>\n",
              "      <td>6</td>\n",
              "      <td>0.503899</td>\n",
              "      <td>0.503439</td>\n",
              "      <td>0.136364</td>\n",
              "      <td>0.195846</td>\n",
              "    </tr>\n",
              "    <tr>\n",
              "      <th>3</th>\n",
              "      <td>3</td>\n",
              "      <td>14</td>\n",
              "      <td>3</td>\n",
              "      <td>1</td>\n",
              "      <td>2</td>\n",
              "      <td>26</td>\n",
              "      <td>5</td>\n",
              "      <td>2</td>\n",
              "      <td>7</td>\n",
              "      <td>0.503899</td>\n",
              "      <td>0.503439</td>\n",
              "      <td>0.487654</td>\n",
              "      <td>0.490299</td>\n",
              "    </tr>\n",
              "    <tr>\n",
              "      <th>4</th>\n",
              "      <td>3</td>\n",
              "      <td>13</td>\n",
              "      <td>2</td>\n",
              "      <td>1</td>\n",
              "      <td>2</td>\n",
              "      <td>27</td>\n",
              "      <td>8</td>\n",
              "      <td>2</td>\n",
              "      <td>9</td>\n",
              "      <td>0.503899</td>\n",
              "      <td>0.503439</td>\n",
              "      <td>0.376093</td>\n",
              "      <td>0.490299</td>\n",
              "    </tr>\n",
              "  </tbody>\n",
              "</table>\n",
              "</div>"
            ],
            "text/plain": [
              "   Previous_SB_Wins  ...  Coach_Experience_Level_Mean\n",
              "0                 3  ...                     0.490299\n",
              "1                 2  ...                     0.886905\n",
              "2                 2  ...                     0.195846\n",
              "3                 3  ...                     0.490299\n",
              "4                 3  ...                     0.490299\n",
              "\n",
              "[5 rows x 13 columns]"
            ]
          },
          "metadata": {
            "tags": []
          },
          "execution_count": 30
        }
      ]
    },
    {
      "cell_type": "code",
      "metadata": {
        "id": "Msl1OCKZsMap",
        "colab_type": "code",
        "colab": {}
      },
      "source": [
        "test_X=test_data.iloc[:,[0,1,2,5,9,10,11,12]]"
      ],
      "execution_count": 0,
      "outputs": []
    },
    {
      "cell_type": "code",
      "metadata": {
        "id": "5bQvrovTsTc6",
        "colab_type": "code",
        "outputId": "a93efd04-95fb-48fc-e4e9-589873d747ff",
        "colab": {
          "base_uri": "https://localhost:8080/",
          "height": 224
        }
      },
      "source": [
        "test_X.head()"
      ],
      "execution_count": 32,
      "outputs": [
        {
          "output_type": "execute_result",
          "data": {
            "text/html": [
              "<div>\n",
              "<style scoped>\n",
              "    .dataframe tbody tr th:only-of-type {\n",
              "        vertical-align: middle;\n",
              "    }\n",
              "\n",
              "    .dataframe tbody tr th {\n",
              "        vertical-align: top;\n",
              "    }\n",
              "\n",
              "    .dataframe thead th {\n",
              "        text-align: right;\n",
              "    }\n",
              "</style>\n",
              "<table border=\"1\" class=\"dataframe\">\n",
              "  <thead>\n",
              "    <tr style=\"text-align: right;\">\n",
              "      <th></th>\n",
              "      <th>Previous_SB_Wins</th>\n",
              "      <th>Number_Of_Wins_This_Season</th>\n",
              "      <th>Number_Of_First_Round_Draft_Picks</th>\n",
              "      <th>Average_Player_Age</th>\n",
              "      <th>Team_Value_Mean</th>\n",
              "      <th>Playing_Style_Mean</th>\n",
              "      <th>Number_Of_Injured_Players_Mean</th>\n",
              "      <th>Coach_Experience_Level_Mean</th>\n",
              "    </tr>\n",
              "  </thead>\n",
              "  <tbody>\n",
              "    <tr>\n",
              "      <th>0</th>\n",
              "      <td>3</td>\n",
              "      <td>16</td>\n",
              "      <td>2</td>\n",
              "      <td>26</td>\n",
              "      <td>0.485356</td>\n",
              "      <td>0.503030</td>\n",
              "      <td>0.256410</td>\n",
              "      <td>0.490299</td>\n",
              "    </tr>\n",
              "    <tr>\n",
              "      <th>1</th>\n",
              "      <td>2</td>\n",
              "      <td>15</td>\n",
              "      <td>3</td>\n",
              "      <td>26</td>\n",
              "      <td>0.503899</td>\n",
              "      <td>0.503439</td>\n",
              "      <td>0.536965</td>\n",
              "      <td>0.886905</td>\n",
              "    </tr>\n",
              "    <tr>\n",
              "      <th>2</th>\n",
              "      <td>2</td>\n",
              "      <td>10</td>\n",
              "      <td>1</td>\n",
              "      <td>27</td>\n",
              "      <td>0.503899</td>\n",
              "      <td>0.503439</td>\n",
              "      <td>0.136364</td>\n",
              "      <td>0.195846</td>\n",
              "    </tr>\n",
              "    <tr>\n",
              "      <th>3</th>\n",
              "      <td>3</td>\n",
              "      <td>14</td>\n",
              "      <td>3</td>\n",
              "      <td>26</td>\n",
              "      <td>0.503899</td>\n",
              "      <td>0.503439</td>\n",
              "      <td>0.487654</td>\n",
              "      <td>0.490299</td>\n",
              "    </tr>\n",
              "    <tr>\n",
              "      <th>4</th>\n",
              "      <td>3</td>\n",
              "      <td>13</td>\n",
              "      <td>2</td>\n",
              "      <td>27</td>\n",
              "      <td>0.503899</td>\n",
              "      <td>0.503439</td>\n",
              "      <td>0.376093</td>\n",
              "      <td>0.490299</td>\n",
              "    </tr>\n",
              "  </tbody>\n",
              "</table>\n",
              "</div>"
            ],
            "text/plain": [
              "   Previous_SB_Wins  ...  Coach_Experience_Level_Mean\n",
              "0                 3  ...                     0.490299\n",
              "1                 2  ...                     0.886905\n",
              "2                 2  ...                     0.195846\n",
              "3                 3  ...                     0.490299\n",
              "4                 3  ...                     0.490299\n",
              "\n",
              "[5 rows x 8 columns]"
            ]
          },
          "metadata": {
            "tags": []
          },
          "execution_count": 32
        }
      ]
    },
    {
      "cell_type": "code",
      "metadata": {
        "id": "3ode4-V5ySne",
        "colab_type": "code",
        "outputId": "210b72a8-5547-4743-83b7-165f2c2110a7",
        "colab": {
          "base_uri": "https://localhost:8080/",
          "height": 34
        }
      },
      "source": [
        "test_X.shape"
      ],
      "execution_count": 33,
      "outputs": [
        {
          "output_type": "execute_result",
          "data": {
            "text/plain": [
              "(3500, 8)"
            ]
          },
          "metadata": {
            "tags": []
          },
          "execution_count": 33
        }
      ]
    },
    {
      "cell_type": "code",
      "metadata": {
        "id": "n-2YLbfxuYmr",
        "colab_type": "code",
        "colab": {}
      },
      "source": [
        "#D_test_test=xbg.DMatrix(test_X)\n",
        "best_test_preds = model5.predict(test_X)\n",
        "#best_test_preds = np.asarray([np.argmax(line) for line in test_preds])"
      ],
      "execution_count": 0,
      "outputs": []
    },
    {
      "cell_type": "code",
      "metadata": {
        "id": "Mc5sdJdiyaX-",
        "colab_type": "code",
        "outputId": "58728169-215a-4fae-813a-715f66a4f52c",
        "colab": {
          "base_uri": "https://localhost:8080/",
          "height": 34
        }
      },
      "source": [
        "test_preds.shape"
      ],
      "execution_count": 0,
      "outputs": [
        {
          "output_type": "execute_result",
          "data": {
            "text/plain": [
              "(2500, 4)"
            ]
          },
          "metadata": {
            "tags": []
          },
          "execution_count": 95
        }
      ]
    },
    {
      "cell_type": "code",
      "metadata": {
        "id": "zPkoHPLuvCkq",
        "colab_type": "code",
        "colab": {}
      },
      "source": [
        "severity_dict={1:'Minor_Damage_And_Injuries',2:'Significant_Damage_And_Fatalities',3:'Significant_Damage_And_Serious_Injuries',0:'Highly_Fatal_And_Damaging'}"
      ],
      "execution_count": 0,
      "outputs": []
    },
    {
      "cell_type": "code",
      "metadata": {
        "id": "bIPXmns4vXjZ",
        "colab_type": "code",
        "colab": {}
      },
      "source": [
        "severity_list=list()\n",
        "for x in best_test_preds:\n",
        "  severity_list.append(severity_dict[x])"
      ],
      "execution_count": 0,
      "outputs": []
    },
    {
      "cell_type": "code",
      "metadata": {
        "id": "FRuaCw3nvqU2",
        "colab_type": "code",
        "colab": {}
      },
      "source": [
        "test_data['Won_Championship']=pd.Series(best_test_preds)"
      ],
      "execution_count": 0,
      "outputs": []
    },
    {
      "cell_type": "code",
      "metadata": {
        "id": "5nZ9SPxZv0Wl",
        "colab_type": "code",
        "colab": {}
      },
      "source": [
        "test_data[['ID','Won_Championship']].to_csv(\"Big-Game-Prediction/submission3.csv\",index=False)"
      ],
      "execution_count": 0,
      "outputs": []
    }
  ]
}